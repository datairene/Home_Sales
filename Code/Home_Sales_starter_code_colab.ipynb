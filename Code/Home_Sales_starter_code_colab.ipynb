{
  "cells": [
    {
      "cell_type": "code",
      "execution_count": 1,
      "metadata": {
        "colab": {
          "base_uri": "https://localhost:8080/"
        },
        "id": "a_KW73O2e3dw",
        "outputId": "dd867733-875b-4bcb-df50-7a7353ec6e5b"
      },
      "outputs": [
        {
          "output_type": "stream",
          "name": "stdout",
          "text": [
            "\r0% [Working]\r            \rGet:1 http://security.ubuntu.com/ubuntu jammy-security InRelease [110 kB]\n",
            "\r0% [Connecting to archive.ubuntu.com] [1 InRelease 14.2 kB/110 kB 13%] [Connected to cloud.r-project\r                                                                                                    \rGet:2 https://cloud.r-project.org/bin/linux/ubuntu jammy-cran40/ InRelease [3,626 B]\n",
            "\r0% [Waiting for headers] [1 InRelease 69.2 kB/110 kB 63%] [2 InRelease 0 B/3,626 B 0%] [Connecting t\r0% [Waiting for headers] [1 InRelease 110 kB/110 kB 100%] [Connecting to ppa.launchpadcontent.net (1\r                                                                                                    \rHit:3 http://archive.ubuntu.com/ubuntu jammy InRelease\n",
            "\r0% [Waiting for headers] [Connecting to ppa.launchpadcontent.net (185.125.190.80)] [Waiting for head\r                                                                                                    \rGet:4 http://archive.ubuntu.com/ubuntu jammy-updates InRelease [119 kB]\n",
            "\r0% [4 InRelease 15.6 kB/119 kB 13%] [Connecting to ppa.launchpadcontent.net (185.125.190.80)] [Waiti\r                                                                                                    \rHit:5 https://developer.download.nvidia.com/compute/cuda/repos/ubuntu2204/x86_64  InRelease\n",
            "Hit:6 http://archive.ubuntu.com/ubuntu jammy-backports InRelease\n",
            "Ign:7 https://ppa.launchpadcontent.net/c2d4u.team/c2d4u4.0+/ubuntu jammy InRelease\n",
            "Get:8 https://cloud.r-project.org/bin/linux/ubuntu jammy-cran40/ Packages [51.0 kB]\n",
            "Ign:9 https://ppa.launchpadcontent.net/deadsnakes/ppa/ubuntu jammy InRelease\n",
            "Get:10 http://security.ubuntu.com/ubuntu jammy-security/main amd64 Packages [1,619 kB]\n",
            "Ign:11 https://ppa.launchpadcontent.net/graphics-drivers/ppa/ubuntu jammy InRelease\n",
            "Get:12 http://security.ubuntu.com/ubuntu jammy-security/restricted amd64 Packages [2,037 kB]\n",
            "Get:13 http://archive.ubuntu.com/ubuntu jammy-updates/restricted amd64 Packages [2,074 kB]\n",
            "Get:14 http://archive.ubuntu.com/ubuntu jammy-updates/universe amd64 Packages [1,356 kB]\n",
            "Get:15 http://archive.ubuntu.com/ubuntu jammy-updates/main amd64 Packages [1,898 kB]\n",
            "Ign:16 https://ppa.launchpadcontent.net/ubuntugis/ppa/ubuntu jammy InRelease\n",
            "Ign:7 https://ppa.launchpadcontent.net/c2d4u.team/c2d4u4.0+/ubuntu jammy InRelease\n",
            "Ign:9 https://ppa.launchpadcontent.net/deadsnakes/ppa/ubuntu jammy InRelease\n",
            "Ign:11 https://ppa.launchpadcontent.net/graphics-drivers/ppa/ubuntu jammy InRelease\n",
            "Ign:16 https://ppa.launchpadcontent.net/ubuntugis/ppa/ubuntu jammy InRelease\n",
            "Ign:7 https://ppa.launchpadcontent.net/c2d4u.team/c2d4u4.0+/ubuntu jammy InRelease\n",
            "Ign:9 https://ppa.launchpadcontent.net/deadsnakes/ppa/ubuntu jammy InRelease\n",
            "Ign:11 https://ppa.launchpadcontent.net/graphics-drivers/ppa/ubuntu jammy InRelease\n",
            "Ign:16 https://ppa.launchpadcontent.net/ubuntugis/ppa/ubuntu jammy InRelease\n",
            "Err:7 https://ppa.launchpadcontent.net/c2d4u.team/c2d4u4.0+/ubuntu jammy InRelease\n",
            "  503  Service Unavailable [IP: 185.125.190.80 443]\n",
            "Err:9 https://ppa.launchpadcontent.net/deadsnakes/ppa/ubuntu jammy InRelease\n",
            "  503  Service Unavailable [IP: 185.125.190.80 443]\n",
            "Err:11 https://ppa.launchpadcontent.net/graphics-drivers/ppa/ubuntu jammy InRelease\n",
            "  503  Service Unavailable [IP: 185.125.190.80 443]\n",
            "Err:16 https://ppa.launchpadcontent.net/ubuntugis/ppa/ubuntu jammy InRelease\n",
            "  503  Service Unavailable [IP: 185.125.190.80 443]\n",
            "Fetched 9,267 kB in 35s (261 kB/s)\n",
            "Reading package lists... Done\n",
            "W: Failed to fetch https://ppa.launchpadcontent.net/c2d4u.team/c2d4u4.0+/ubuntu/dists/jammy/InRelease  503  Service Unavailable [IP: 185.125.190.80 443]\n",
            "W: Failed to fetch https://ppa.launchpadcontent.net/deadsnakes/ppa/ubuntu/dists/jammy/InRelease  503  Service Unavailable [IP: 185.125.190.80 443]\n",
            "W: Failed to fetch https://ppa.launchpadcontent.net/graphics-drivers/ppa/ubuntu/dists/jammy/InRelease  503  Service Unavailable [IP: 185.125.190.80 443]\n",
            "W: Failed to fetch https://ppa.launchpadcontent.net/ubuntugis/ppa/ubuntu/dists/jammy/InRelease  503  Service Unavailable [IP: 185.125.190.80 443]\n",
            "W: Some index files failed to download. They have been ignored, or old ones used instead.\n"
          ]
        }
      ],
      "source": [
        "import os\n",
        "# Find the latest version of spark 3.x  from http://www.apache.org/dist/spark/ and enter as the spark version\n",
        "# For example:\n",
        "# spark_version = 'spark-3.4.0'\n",
        "spark_version = 'spark-3.5.1'\n",
        "os.environ['SPARK_VERSION']=spark_version\n",
        "\n",
        "# Install Spark and Java\n",
        "!apt-get update\n",
        "!apt-get install openjdk-11-jdk-headless -qq > /dev/null\n",
        "!wget -q http://www.apache.org/dist/spark/$SPARK_VERSION/$SPARK_VERSION-bin-hadoop3.tgz\n",
        "!tar xf $SPARK_VERSION-bin-hadoop3.tgz\n",
        "!pip install -q findspark\n",
        "\n",
        "# Set Environment Variables\n",
        "os.environ[\"JAVA_HOME\"] = \"/usr/lib/jvm/java-11-openjdk-amd64\"\n",
        "os.environ[\"SPARK_HOME\"] = f\"/content/{spark_version}-bin-hadoop3\"\n",
        "\n",
        "# Start a SparkSession\n",
        "import findspark\n",
        "findspark.init()"
      ]
    },
    {
      "cell_type": "code",
      "execution_count": 2,
      "metadata": {
        "id": "2XbWNf1Te5fM"
      },
      "outputs": [],
      "source": [
        "# Import packages\n",
        "from pyspark.sql import SparkSession\n",
        "import time\n",
        "\n",
        "# Create a SparkSession\n",
        "spark = SparkSession.builder.appName(\"SparkSQL\").getOrCreate()"
      ]
    },
    {
      "cell_type": "code",
      "execution_count": 3,
      "metadata": {
        "id": "wOJqxG_RPSwp"
      },
      "outputs": [],
      "source": [
        "# 1. Read in the AWS S3 bucket into a DataFrame.\n",
        "from pyspark import SparkFiles\n",
        "url = \"https://2u-data-curriculum-team.s3.amazonaws.com/dataviz-classroom/v1.2/22-big-data/home_sales_revised.csv\"\n",
        "\n",
        "spark.sparkContext.addFile(url)\n",
        "df = spark.read.csv(SparkFiles.get(\"home_sales_revised.csv\"), sep=\",\", header=True)"
      ]
    },
    {
      "cell_type": "code",
      "execution_count": 4,
      "metadata": {
        "id": "RoljcJ7WPpnm"
      },
      "outputs": [],
      "source": [
        "# 2. Create a temporary view of the DataFrame.\n",
        "df.createOrReplaceTempView('home_sales')\n"
      ]
    },
    {
      "cell_type": "code",
      "execution_count": 12,
      "metadata": {
        "id": "L6fkwOeOmqvq",
        "colab": {
          "base_uri": "https://localhost:8080/"
        },
        "outputId": "247b08be-b11a-49f7-81b2-10513875bf7b"
      },
      "outputs": [
        {
          "output_type": "stream",
          "name": "stdout",
          "text": [
            "+----------+-------------+\n",
            "|year(date)|Average_Price|\n",
            "+----------+-------------+\n",
            "|      2019|     300263.7|\n",
            "|      2020|    298353.78|\n",
            "|      2021|    301819.44|\n",
            "|      2022|    296363.88|\n",
            "+----------+-------------+\n",
            "\n"
          ]
        }
      ],
      "source": [
        "# 3. What is the average price for a four bedroom house sold per year, rounded to two decimal places?\n",
        "query = \"\"\"\n",
        "SELECT YEAR(date), ROUND(AVG(price), 2) AS Average_Price\n",
        "FROM home_sales\n",
        "WHERE bedrooms = 4\n",
        "GROUP BY YEAR(date)\n",
        "ORDER BY YEAR(date)\n",
        "\"\"\"\n",
        "\n",
        "spark.sql(query).show()\n"
      ]
    },
    {
      "cell_type": "code",
      "execution_count": 11,
      "metadata": {
        "id": "l8p_tUS8h8it",
        "colab": {
          "base_uri": "https://localhost:8080/"
        },
        "outputId": "2aa312fc-d88f-4ec2-d528-d69097a79c14"
      },
      "outputs": [
        {
          "output_type": "stream",
          "name": "stdout",
          "text": [
            "+----------+-------------+\n",
            "|date_built|Average_Price|\n",
            "+----------+-------------+\n",
            "|      2010|    292859.62|\n",
            "|      2011|    291117.47|\n",
            "|      2012|    293683.19|\n",
            "|      2013|    295962.27|\n",
            "|      2014|    290852.27|\n",
            "|      2015|     288770.3|\n",
            "|      2016|    290555.07|\n",
            "|      2017|    292676.79|\n",
            "+----------+-------------+\n",
            "\n"
          ]
        }
      ],
      "source": [
        "# 4. What is the average price of a home for each year the home was built,\n",
        "# that have 3 bedrooms and 3 bathrooms, rounded to two decimal places?\n",
        "query = \"\"\"\n",
        "SELECT date_built, ROUND(AVG(price), 2) AS Average_Price\n",
        "FROM home_sales\n",
        "WHERE bedrooms = 3 AND bathrooms =3\n",
        "GROUP BY date_built\n",
        "ORDER BY date_built\n",
        "\"\"\"\n",
        "\n",
        "spark.sql(query).show()\n"
      ]
    },
    {
      "cell_type": "code",
      "execution_count": 14,
      "metadata": {
        "id": "Y-Eytz64liDU",
        "colab": {
          "base_uri": "https://localhost:8080/"
        },
        "outputId": "05bee6f3-ee22-4e55-f2eb-7249e790d240"
      },
      "outputs": [
        {
          "output_type": "stream",
          "name": "stdout",
          "text": [
            "+----------+-------------+\n",
            "|date_built|Average_Price|\n",
            "+----------+-------------+\n",
            "|      2010|    285010.22|\n",
            "|      2011|    276553.81|\n",
            "|      2012|    307539.97|\n",
            "|      2013|    303676.79|\n",
            "|      2014|    298264.72|\n",
            "|      2015|    297609.97|\n",
            "|      2016|     293965.1|\n",
            "|      2017|    280317.58|\n",
            "+----------+-------------+\n",
            "\n"
          ]
        }
      ],
      "source": [
        "# 5. What is the average price of a home for each year the home was built,\n",
        "# that have 3 bedrooms, 3 bathrooms, with two floors,\n",
        "# and are greater than or equal to 2,000 square feet, rounded to two decimal places?\n",
        "query = \"\"\"\n",
        "SELECT date_built, ROUND(AVG(price), 2) AS Average_Price\n",
        "FROM home_sales\n",
        "WHERE bedrooms = 3 AND bathrooms =3 AND floors = 2 AND sqft_living >= 2000\n",
        "GROUP BY date_built\n",
        "ORDER BY date_built\n",
        "\"\"\"\n",
        "\n",
        "spark.sql(query).show()\n",
        "\n"
      ]
    },
    {
      "cell_type": "code",
      "execution_count": 17,
      "metadata": {
        "colab": {
          "base_uri": "https://localhost:8080/"
        },
        "id": "GUrfgOX1pCRd",
        "outputId": "0310f10e-35b1-4e86-f460-f077a9cc9332"
      },
      "outputs": [
        {
          "output_type": "stream",
          "name": "stdout",
          "text": [
            "+----+------------------+\n",
            "|view|        avg(price)|\n",
            "+----+------------------+\n",
            "|  99|1061201.4193548388|\n",
            "|  98|1053739.3333333333|\n",
            "|  97| 1129040.148148148|\n",
            "|  96|1017815.9166666666|\n",
            "|  95|         1054325.6|\n",
            "|  94|         1033536.2|\n",
            "|  93|1026006.0606060605|\n",
            "|  92| 970402.5476190476|\n",
            "|  91| 1137372.731707317|\n",
            "|  90|1062654.1621621621|\n",
            "|   9| 401393.3370786517|\n",
            "|  89|        1107839.15|\n",
            "|  88|1031719.3548387097|\n",
            "|  87|         1072285.2|\n",
            "|  86|        1070444.25|\n",
            "|  85|1056336.7435897435|\n",
            "|  84|1117233.1290322582|\n",
            "|  83|       1033965.925|\n",
            "|  82|         1063498.0|\n",
            "|  81|1053472.7878787878|\n",
            "+----+------------------+\n",
            "only showing top 20 rows\n",
            "\n",
            "--- 1.3076128959655762 seconds ---\n"
          ]
        }
      ],
      "source": [
        "# 6. What is the average price of a home per \"view\" rating, rounded to two decimal places,\n",
        "# having an average home price greater than or equal to $350,000? Order by descending view rating.\n",
        "# Although this is a small dataset, determine the run time for this query.\n",
        "\n",
        "start_time = time.time()\n",
        "\n",
        "query = \"\"\"\n",
        "SELECT view, AVG(price)\n",
        "FROM home_sales\n",
        "WHERE price >= 350000\n",
        "GROUP BY view\n",
        "ORDER BY view DESC\n",
        "\"\"\"\n",
        "\n",
        "spark.sql(query).show()\n",
        "\n",
        "print(\"--- %s seconds ---\" % (time.time() - start_time))"
      ]
    },
    {
      "cell_type": "code",
      "execution_count": 16,
      "metadata": {
        "id": "KAhk3ZD2tFy8",
        "colab": {
          "base_uri": "https://localhost:8080/"
        },
        "outputId": "8f32599d-93dd-4f56-bbd1-5c0cffb4d479"
      },
      "outputs": [
        {
          "output_type": "execute_result",
          "data": {
            "text/plain": [
              "DataFrame[]"
            ]
          },
          "metadata": {},
          "execution_count": 16
        }
      ],
      "source": [
        "# 7. Cache the the temporary table home_sales.\n",
        "spark.sql(\"cache table home_sales\")"
      ]
    },
    {
      "cell_type": "code",
      "execution_count": null,
      "metadata": {
        "id": "4opVhbvxtL-i"
      },
      "outputs": [],
      "source": [
        "# 8. Check if the table is cached.\n",
        "spark.catalog.isCached('home_sales')"
      ]
    },
    {
      "cell_type": "code",
      "execution_count": 18,
      "metadata": {
        "colab": {
          "base_uri": "https://localhost:8080/"
        },
        "id": "5GnL46lwTSEk",
        "outputId": "cba99e02-cca1-44b8-e4d7-d1fcb8d902ca"
      },
      "outputs": [
        {
          "output_type": "stream",
          "name": "stdout",
          "text": [
            "+----+------------------+\n",
            "|view|        avg(price)|\n",
            "+----+------------------+\n",
            "|  99|1061201.4193548388|\n",
            "|  98|1053739.3333333333|\n",
            "|  97| 1129040.148148148|\n",
            "|  96|1017815.9166666666|\n",
            "|  95|         1054325.6|\n",
            "|  94|         1033536.2|\n",
            "|  93|1026006.0606060605|\n",
            "|  92| 970402.5476190476|\n",
            "|  91| 1137372.731707317|\n",
            "|  90|1062654.1621621621|\n",
            "|   9| 401393.3370786517|\n",
            "|  89|        1107839.15|\n",
            "|  88|1031719.3548387097|\n",
            "|  87|         1072285.2|\n",
            "|  86|        1070444.25|\n",
            "|  85|1056336.7435897435|\n",
            "|  84|1117233.1290322582|\n",
            "|  83|       1033965.925|\n",
            "|  82|         1063498.0|\n",
            "|  81|1053472.7878787878|\n",
            "+----+------------------+\n",
            "only showing top 20 rows\n",
            "\n",
            "--- 0.7309563159942627 seconds ---\n"
          ]
        }
      ],
      "source": [
        "# 9. Using the cached data, run the last query above, that calculates\n",
        "# the average price of a home per \"view\" rating, rounded to two decimal places,\n",
        "# having an average home price greater than or equal to $350,000.\n",
        "# Determine the runtime and compare it to the uncached runtime.\n",
        "\n",
        "start_time = time.time()\n",
        "\n",
        "\n",
        "query = \"\"\"\n",
        "SELECT view, AVG(price)\n",
        "FROM home_sales\n",
        "WHERE price >= 350000\n",
        "GROUP BY view\n",
        "ORDER BY view DESC\n",
        "\"\"\"\n",
        "\n",
        "spark.sql(query).show()\n",
        "\n",
        "print(\"--- %s seconds ---\" % (time.time() - start_time))\n"
      ]
    },
    {
      "cell_type": "code",
      "execution_count": 20,
      "metadata": {
        "id": "Qm12WN9isHBR"
      },
      "outputs": [],
      "source": [
        "# 10. Partition by the \"date_built\" field on the formatted parquet home sales data\n",
        "df.write.partitionBy('date_built').parquet('p_home_sales', mode='overwrite')"
      ]
    },
    {
      "cell_type": "code",
      "execution_count": 21,
      "metadata": {
        "id": "AZ7BgY61sRqY"
      },
      "outputs": [],
      "source": [
        "# 11. Read the parquet formatted data.\n",
        "p_df = spark.read.parquet('p_home_sales')"
      ]
    },
    {
      "cell_type": "code",
      "execution_count": 22,
      "metadata": {
        "id": "J6MJkHfvVcvh"
      },
      "outputs": [],
      "source": [
        "# 12. Create a temporary table for the parquet data.\n",
        "p_df.createOrReplaceTempView('p_home_sales')"
      ]
    },
    {
      "cell_type": "code",
      "execution_count": 23,
      "metadata": {
        "colab": {
          "base_uri": "https://localhost:8080/"
        },
        "id": "G_Vhb52rU1Sn",
        "outputId": "0ba6d4ed-015d-4157-b5f9-243ce1d7634e"
      },
      "outputs": [
        {
          "output_type": "stream",
          "name": "stdout",
          "text": [
            "+----+------------------+\n",
            "|view|        avg(price)|\n",
            "+----+------------------+\n",
            "|  99|1061201.4193548388|\n",
            "|  98|1053739.3333333333|\n",
            "|  97| 1129040.148148148|\n",
            "|  96|1017815.9166666666|\n",
            "|  95|         1054325.6|\n",
            "|  94|         1033536.2|\n",
            "|  93|1026006.0606060605|\n",
            "|  92| 970402.5476190476|\n",
            "|  91| 1137372.731707317|\n",
            "|  90|1062654.1621621621|\n",
            "|   9| 401393.3370786517|\n",
            "|  89|        1107839.15|\n",
            "|  88|1031719.3548387097|\n",
            "|  87|         1072285.2|\n",
            "|  86|        1070444.25|\n",
            "|  85|1056336.7435897435|\n",
            "|  84|1117233.1290322582|\n",
            "|  83|       1033965.925|\n",
            "|  82|         1063498.0|\n",
            "|  81|1053472.7878787878|\n",
            "+----+------------------+\n",
            "only showing top 20 rows\n",
            "\n",
            "--- 0.6345043182373047 seconds ---\n"
          ]
        }
      ],
      "source": [
        "# 13. Using the parquet DataFrame, run the last query above, that calculates\n",
        "# the average price of a home per \"view\" rating, rounded to two decimal places,\n",
        "# having an average home price greater than or equal to $350,000.\n",
        "# Determine the runtime and compare it to the cached runtime.\n",
        "\n",
        "start_time = time.time()\n",
        "\n",
        "\n",
        "query = \"\"\"\n",
        "SELECT view, AVG(price)\n",
        "FROM home_sales\n",
        "WHERE price >= 350000\n",
        "GROUP BY view\n",
        "ORDER BY view DESC\n",
        "\"\"\"\n",
        "\n",
        "spark.sql(query).show()\n",
        "\n",
        "print(\"--- %s seconds ---\" % (time.time() - start_time))"
      ]
    },
    {
      "cell_type": "code",
      "execution_count": 24,
      "metadata": {
        "id": "hjjYzQGjtbq8",
        "colab": {
          "base_uri": "https://localhost:8080/"
        },
        "outputId": "a619844c-0b48-4eaf-8446-5f6ab78f0218"
      },
      "outputs": [
        {
          "output_type": "execute_result",
          "data": {
            "text/plain": [
              "DataFrame[]"
            ]
          },
          "metadata": {},
          "execution_count": 24
        }
      ],
      "source": [
        "# 14. Uncache the home_sales temporary table.\n",
        "spark.sql('uncache table home_sales')"
      ]
    },
    {
      "cell_type": "code",
      "execution_count": 25,
      "metadata": {
        "id": "Sy9NBvO7tlmm",
        "colab": {
          "base_uri": "https://localhost:8080/"
        },
        "outputId": "15d78e09-6b88-4da8-b0e4-0a93fa0077c1"
      },
      "outputs": [
        {
          "output_type": "stream",
          "name": "stdout",
          "text": [
            "all clear\n"
          ]
        }
      ],
      "source": [
        "# 15. Check if the home_sales is no longer cached\n",
        "if spark.catalog.isCached('home_sales'):\n",
        "  print('home_sales is still cached')\n",
        "else:\n",
        "  print('all clear')\n"
      ]
    },
    {
      "cell_type": "code",
      "execution_count": null,
      "metadata": {
        "id": "Si-BNruRUGK3"
      },
      "outputs": [],
      "source": []
    }
  ],
  "metadata": {
    "colab": {
      "provenance": []
    },
    "gpuClass": "standard",
    "kernelspec": {
      "display_name": "Python 3 (ipykernel)",
      "language": "python",
      "name": "python3"
    },
    "language_info": {
      "codemirror_mode": {
        "name": "ipython",
        "version": 3
      },
      "file_extension": ".py",
      "mimetype": "text/x-python",
      "name": "python",
      "nbconvert_exporter": "python",
      "pygments_lexer": "ipython3",
      "version": "3.10.4"
    },
    "nteract": {
      "version": "0.28.0"
    }
  },
  "nbformat": 4,
  "nbformat_minor": 0
}